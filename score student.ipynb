{
 "cells": [
  {
   "cell_type": "markdown",
   "id": "e24118fa",
   "metadata": {},
   "source": [
    "<h1><p><center style=\"background: linear-gradient(to right,white,green);color: transparent;font-family: Gabriola;color: navy;font-size: 210%;text-align: center;border-radius: 10px 70px\">\n",
    " ✏ Student Grade\n",
    "</center></p></h1>"
   ]
  },
  {
   "cell_type": "markdown",
   "id": "e7e00042",
   "metadata": {},
   "source": [
    "![corona](https://washburnreview.org/wp-content/uploads/2023/02/grading-teachers-900x596.png)"
   ]
  },
  {
   "cell_type": "code",
   "execution_count": 48,
   "id": "83863452",
   "metadata": {},
   "outputs": [],
   "source": [
    "import pandas as pd\n",
    "import numpy as np\n",
    "import matplotlib.pyplot as plt"
   ]
  },
  {
   "cell_type": "code",
   "execution_count": 49,
   "id": "c80ba41d",
   "metadata": {},
   "outputs": [],
   "source": [
    "import seaborn as sns"
   ]
  },
  {
   "cell_type": "code",
   "execution_count": 2,
   "id": "be320845",
   "metadata": {},
   "outputs": [],
   "source": [
    "data = pd.read_csv('student_scores.csv')"
   ]
  },
  {
   "cell_type": "code",
   "execution_count": 3,
   "id": "e94bfea3",
   "metadata": {},
   "outputs": [],
   "source": [
    "df = pd.DataFrame(data)"
   ]
  },
  {
   "cell_type": "code",
   "execution_count": 4,
   "id": "44f22476",
   "metadata": {},
   "outputs": [
    {
     "data": {
      "text/html": [
       "<div>\n",
       "<style scoped>\n",
       "    .dataframe tbody tr th:only-of-type {\n",
       "        vertical-align: middle;\n",
       "    }\n",
       "\n",
       "    .dataframe tbody tr th {\n",
       "        vertical-align: top;\n",
       "    }\n",
       "\n",
       "    .dataframe thead th {\n",
       "        text-align: right;\n",
       "    }\n",
       "</style>\n",
       "<table border=\"1\" class=\"dataframe\">\n",
       "  <thead>\n",
       "    <tr style=\"text-align: right;\">\n",
       "      <th></th>\n",
       "      <th>Hours</th>\n",
       "      <th>Scores</th>\n",
       "    </tr>\n",
       "  </thead>\n",
       "  <tbody>\n",
       "    <tr>\n",
       "      <th>0</th>\n",
       "      <td>2.5</td>\n",
       "      <td>21</td>\n",
       "    </tr>\n",
       "    <tr>\n",
       "      <th>1</th>\n",
       "      <td>5.1</td>\n",
       "      <td>47</td>\n",
       "    </tr>\n",
       "    <tr>\n",
       "      <th>2</th>\n",
       "      <td>3.2</td>\n",
       "      <td>27</td>\n",
       "    </tr>\n",
       "    <tr>\n",
       "      <th>3</th>\n",
       "      <td>8.5</td>\n",
       "      <td>75</td>\n",
       "    </tr>\n",
       "    <tr>\n",
       "      <th>4</th>\n",
       "      <td>3.5</td>\n",
       "      <td>30</td>\n",
       "    </tr>\n",
       "    <tr>\n",
       "      <th>5</th>\n",
       "      <td>1.5</td>\n",
       "      <td>20</td>\n",
       "    </tr>\n",
       "    <tr>\n",
       "      <th>6</th>\n",
       "      <td>9.2</td>\n",
       "      <td>88</td>\n",
       "    </tr>\n",
       "    <tr>\n",
       "      <th>7</th>\n",
       "      <td>5.5</td>\n",
       "      <td>60</td>\n",
       "    </tr>\n",
       "    <tr>\n",
       "      <th>8</th>\n",
       "      <td>8.3</td>\n",
       "      <td>81</td>\n",
       "    </tr>\n",
       "    <tr>\n",
       "      <th>9</th>\n",
       "      <td>2.7</td>\n",
       "      <td>25</td>\n",
       "    </tr>\n",
       "    <tr>\n",
       "      <th>10</th>\n",
       "      <td>7.7</td>\n",
       "      <td>85</td>\n",
       "    </tr>\n",
       "    <tr>\n",
       "      <th>11</th>\n",
       "      <td>5.9</td>\n",
       "      <td>62</td>\n",
       "    </tr>\n",
       "    <tr>\n",
       "      <th>12</th>\n",
       "      <td>4.5</td>\n",
       "      <td>41</td>\n",
       "    </tr>\n",
       "    <tr>\n",
       "      <th>13</th>\n",
       "      <td>3.3</td>\n",
       "      <td>42</td>\n",
       "    </tr>\n",
       "    <tr>\n",
       "      <th>14</th>\n",
       "      <td>1.1</td>\n",
       "      <td>17</td>\n",
       "    </tr>\n",
       "    <tr>\n",
       "      <th>15</th>\n",
       "      <td>8.9</td>\n",
       "      <td>95</td>\n",
       "    </tr>\n",
       "    <tr>\n",
       "      <th>16</th>\n",
       "      <td>2.5</td>\n",
       "      <td>30</td>\n",
       "    </tr>\n",
       "    <tr>\n",
       "      <th>17</th>\n",
       "      <td>1.9</td>\n",
       "      <td>24</td>\n",
       "    </tr>\n",
       "    <tr>\n",
       "      <th>18</th>\n",
       "      <td>6.1</td>\n",
       "      <td>67</td>\n",
       "    </tr>\n",
       "    <tr>\n",
       "      <th>19</th>\n",
       "      <td>7.4</td>\n",
       "      <td>69</td>\n",
       "    </tr>\n",
       "    <tr>\n",
       "      <th>20</th>\n",
       "      <td>2.7</td>\n",
       "      <td>30</td>\n",
       "    </tr>\n",
       "    <tr>\n",
       "      <th>21</th>\n",
       "      <td>4.8</td>\n",
       "      <td>54</td>\n",
       "    </tr>\n",
       "    <tr>\n",
       "      <th>22</th>\n",
       "      <td>3.8</td>\n",
       "      <td>35</td>\n",
       "    </tr>\n",
       "    <tr>\n",
       "      <th>23</th>\n",
       "      <td>6.9</td>\n",
       "      <td>76</td>\n",
       "    </tr>\n",
       "    <tr>\n",
       "      <th>24</th>\n",
       "      <td>7.8</td>\n",
       "      <td>86</td>\n",
       "    </tr>\n",
       "  </tbody>\n",
       "</table>\n",
       "</div>"
      ],
      "text/plain": [
       "    Hours  Scores\n",
       "0     2.5      21\n",
       "1     5.1      47\n",
       "2     3.2      27\n",
       "3     8.5      75\n",
       "4     3.5      30\n",
       "5     1.5      20\n",
       "6     9.2      88\n",
       "7     5.5      60\n",
       "8     8.3      81\n",
       "9     2.7      25\n",
       "10    7.7      85\n",
       "11    5.9      62\n",
       "12    4.5      41\n",
       "13    3.3      42\n",
       "14    1.1      17\n",
       "15    8.9      95\n",
       "16    2.5      30\n",
       "17    1.9      24\n",
       "18    6.1      67\n",
       "19    7.4      69\n",
       "20    2.7      30\n",
       "21    4.8      54\n",
       "22    3.8      35\n",
       "23    6.9      76\n",
       "24    7.8      86"
      ]
     },
     "execution_count": 4,
     "metadata": {},
     "output_type": "execute_result"
    }
   ],
   "source": [
    "df"
   ]
  },
  {
   "cell_type": "code",
   "execution_count": 18,
   "id": "96ecc4a7",
   "metadata": {},
   "outputs": [
    {
     "data": {
      "text/html": [
       "<div>\n",
       "<style scoped>\n",
       "    .dataframe tbody tr th:only-of-type {\n",
       "        vertical-align: middle;\n",
       "    }\n",
       "\n",
       "    .dataframe tbody tr th {\n",
       "        vertical-align: top;\n",
       "    }\n",
       "\n",
       "    .dataframe thead th {\n",
       "        text-align: right;\n",
       "    }\n",
       "</style>\n",
       "<table border=\"1\" class=\"dataframe\">\n",
       "  <thead>\n",
       "    <tr style=\"text-align: right;\">\n",
       "      <th></th>\n",
       "      <th>Hours</th>\n",
       "      <th>Scores</th>\n",
       "    </tr>\n",
       "  </thead>\n",
       "  <tbody>\n",
       "    <tr>\n",
       "      <th>count</th>\n",
       "      <td>25.000000</td>\n",
       "      <td>25.000000</td>\n",
       "    </tr>\n",
       "    <tr>\n",
       "      <th>mean</th>\n",
       "      <td>5.012000</td>\n",
       "      <td>51.480000</td>\n",
       "    </tr>\n",
       "    <tr>\n",
       "      <th>std</th>\n",
       "      <td>2.525094</td>\n",
       "      <td>25.286887</td>\n",
       "    </tr>\n",
       "    <tr>\n",
       "      <th>min</th>\n",
       "      <td>1.100000</td>\n",
       "      <td>17.000000</td>\n",
       "    </tr>\n",
       "    <tr>\n",
       "      <th>25%</th>\n",
       "      <td>2.700000</td>\n",
       "      <td>30.000000</td>\n",
       "    </tr>\n",
       "    <tr>\n",
       "      <th>50%</th>\n",
       "      <td>4.800000</td>\n",
       "      <td>47.000000</td>\n",
       "    </tr>\n",
       "    <tr>\n",
       "      <th>75%</th>\n",
       "      <td>7.400000</td>\n",
       "      <td>75.000000</td>\n",
       "    </tr>\n",
       "    <tr>\n",
       "      <th>max</th>\n",
       "      <td>9.200000</td>\n",
       "      <td>95.000000</td>\n",
       "    </tr>\n",
       "  </tbody>\n",
       "</table>\n",
       "</div>"
      ],
      "text/plain": [
       "           Hours     Scores\n",
       "count  25.000000  25.000000\n",
       "mean    5.012000  51.480000\n",
       "std     2.525094  25.286887\n",
       "min     1.100000  17.000000\n",
       "25%     2.700000  30.000000\n",
       "50%     4.800000  47.000000\n",
       "75%     7.400000  75.000000\n",
       "max     9.200000  95.000000"
      ]
     },
     "execution_count": 18,
     "metadata": {},
     "output_type": "execute_result"
    }
   ],
   "source": [
    "df.describe()"
   ]
  },
  {
   "cell_type": "markdown",
   "id": "0ce6fae3",
   "metadata": {},
   "source": [
    "### Describtion\n",
    "The statistical information in the above table about study hours and obtained grades can show us the following points:\n",
    "\n",
    "Number of data (count): There are 25 data for each variable (hours and grades). This means we have 25 samples of students or individuals whose study hours and grades are recorded.\n",
    "\n",
    "Mean:\n",
    "\n",
    "The average study hours are 5.012 hours.\n",
    "The average score is 51.48.\n",
    "standard deviation (std):\n",
    "\n",
    "The standard deviation of study hours is 2.525 hours. This shows that the dispersion of study hours is relatively average.\n",
    "The standard deviation of scores is 25.287. This shows that the scores also have a high dispersion.\n",
    "minimum (min):\n",
    "\n",
    "The minimum study time is 1.1 hours.\n",
    "The lowest score is 17.\n",
    "Quartiles (25%, 50%, 75%):\n",
    "\n",
    "25% of people have studied less than 2.7 hours and 25% of people have scored less than 30.\n",
    "50% of people studied less than 4.8 hours and scored less than 47 (this is the median).\n",
    "25% of people studied for more than 7.4 hours and scored higher than 75.\n",
    "Maximum (max):\n",
    "\n",
    "The maximum study time is 9.2 hours.\n",
    "The highest score is 95.\n",
    "This information can help us better understand the relationship between study hours and grades. For example, if there is a direct and positive relationship between hours of study and grades, it is possible that people who studied more may have obtained higher grades. To check this relationship more closely, you can use statistical analysis such as correlation coefficient."
   ]
  },
  {
   "cell_type": "code",
   "execution_count": 163,
   "id": "86fc1a70",
   "metadata": {},
   "outputs": [
    {
     "data": {
      "image/png": "[encoded data removed]",
      "text/plain": [
       "<Figure size 640x480 with 1 Axes>"
      ]
     },
     "metadata": {},
     "output_type": "display_data"
    }
   ],
   "source": [
    "plt.scatter(df['Hours'],df['Scores'])\n",
    "plt.xlabel('Hours')\n",
    "plt.ylabel('Scores')\n",
    "plt.show()"
   ]
  },
  {
   "cell_type": "markdown",
   "id": "222b3954",
   "metadata": {},
   "source": [
    "### Conclusion\n",
    "\n",
    "The scatter diagram shows that there is a positive relationship between the number of hours students study and their grades. However, there are other factors that can affect students' grades. Teachers and parents can use this analysis to identify students at risk of academic failure, provide feedback to students, and develop intervention programs."
   ]
  },
  {
   "cell_type": "code",
   "execution_count": 170,
   "id": "f7feb8a7",
   "metadata": {},
   "outputs": [],
   "source": [
    "X = df['Hours'].values.reshape(-1,1)\n",
    "y = df['Scores'].values.reshape(-1,1)"
   ]
  },
  {
   "cell_type": "code",
   "execution_count": 171,
   "id": "044d6dae",
   "metadata": {},
   "outputs": [],
   "source": [
    "from sklearn.linear_model import LinearRegression\n",
    "from sklearn.model_selection import train_test_split\n"
   ]
  },
  {
   "cell_type": "code",
   "execution_count": 172,
   "id": "69cdc616",
   "metadata": {},
   "outputs": [],
   "source": [
    "from sklearn.metrics import mean_absolute_error,mean_squared_error,r2_score"
   ]
  },
  {
   "cell_type": "code",
   "execution_count": 173,
   "id": "5abc8849",
   "metadata": {},
   "outputs": [],
   "source": [
    "X_train,X_test,y_train,y_test =train_test_split(X,y,test_size=0.2,random_state=42)"
   ]
  },
  {
   "cell_type": "code",
   "execution_count": 174,
   "id": "5799995f",
   "metadata": {},
   "outputs": [],
   "source": [
    "regressor = LinearRegression()"
   ]
  },
  {
   "cell_type": "code",
   "execution_count": 175,
   "id": "f7addd73",
   "metadata": {},
   "outputs": [
    {
     "data": {
      "text/html": [
       "<style>#sk-container-id-6 {color: black;background-color: white;}#sk-container-id-6 pre{padding: 0;}#sk-container-id-6 div.sk-toggleable {background-color: white;}#sk-container-id-6 label.sk-toggleable__label {cursor: pointer;display: block;width: 100%;margin-bottom: 0;padding: 0.3em;box-sizing: border-box;text-align: center;}#sk-container-id-6 label.sk-toggleable__label-arrow:before {content: \"▸\";float: left;margin-right: 0.25em;color: #696969;}#sk-container-id-6 label.sk-toggleable__label-arrow:hover:before {color: black;}#sk-container-id-6 div.sk-estimator:hover label.sk-toggleable__label-arrow:before {color: black;}#sk-container-id-6 div.sk-toggleable__content {max-height: 0;max-width: 0;overflow: hidden;text-align: left;background-color: #f0f8ff;}#sk-container-id-6 div.sk-toggleable__content pre {margin: 0.2em;color: black;border-radius: 0.25em;background-color: #f0f8ff;}#sk-container-id-6 input.sk-toggleable__control:checked~div.sk-toggleable__content {max-height: 200px;max-width: 100%;overflow: auto;}#sk-container-id-6 input.sk-toggleable__control:checked~label.sk-toggleable__label-arrow:before {content: \"▾\";}#sk-container-id-6 div.sk-estimator input.sk-toggleable__control:checked~label.sk-toggleable__label {background-color: #d4ebff;}#sk-container-id-6 div.sk-label input.sk-toggleable__control:checked~label.sk-toggleable__label {background-color: #d4ebff;}#sk-container-id-6 input.sk-hidden--visually {border: 0;clip: rect(1px 1px 1px 1px);clip: rect(1px, 1px, 1px, 1px);height: 1px;margin: -1px;overflow: hidden;padding: 0;position: absolute;width: 1px;}#sk-container-id-6 div.sk-estimator {font-family: monospace;background-color: #f0f8ff;border: 1px dotted black;border-radius: 0.25em;box-sizing: border-box;margin-bottom: 0.5em;}#sk-container-id-6 div.sk-estimator:hover {background-color: #d4ebff;}#sk-container-id-6 div.sk-parallel-item::after {content: \"\";width: 100%;border-bottom: 1px solid gray;flex-grow: 1;}#sk-container-id-6 div.sk-label:hover label.sk-toggleable__label {background-color: #d4ebff;}#sk-container-id-6 div.sk-serial::before {content: \"\";position: absolute;border-left: 1px solid gray;box-sizing: border-box;top: 0;bottom: 0;left: 50%;z-index: 0;}#sk-container-id-6 div.sk-serial {display: flex;flex-direction: column;align-items: center;background-color: white;padding-right: 0.2em;padding-left: 0.2em;position: relative;}#sk-container-id-6 div.sk-item {position: relative;z-index: 1;}#sk-container-id-6 div.sk-parallel {display: flex;align-items: stretch;justify-content: center;background-color: white;position: relative;}#sk-container-id-6 div.sk-item::before, #sk-container-id-6 div.sk-parallel-item::before {content: \"\";position: absolute;border-left: 1px solid gray;box-sizing: border-box;top: 0;bottom: 0;left: 50%;z-index: -1;}#sk-container-id-6 div.sk-parallel-item {display: flex;flex-direction: column;z-index: 1;position: relative;background-color: white;}#sk-container-id-6 div.sk-parallel-item:first-child::after {align-self: flex-end;width: 50%;}#sk-container-id-6 div.sk-parallel-item:last-child::after {align-self: flex-start;width: 50%;}#sk-container-id-6 div.sk-parallel-item:only-child::after {width: 0;}#sk-container-id-6 div.sk-dashed-wrapped {border: 1px dashed gray;margin: 0 0.4em 0.5em 0.4em;box-sizing: border-box;padding-bottom: 0.4em;background-color: white;}#sk-container-id-6 div.sk-label label {font-family: monospace;font-weight: bold;display: inline-block;line-height: 1.2em;}#sk-container-id-6 div.sk-label-container {text-align: center;}#sk-container-id-6 div.sk-container {/* jupyter's `normalize.less` sets `[hidden] { display: none; }` but bootstrap.min.css set `[hidden] { display: none !important; }` so we also need the `!important` here to be able to override the default hidden behavior on the sphinx rendered scikit-learn.org. See: https://github.com/scikit-learn/scikit-learn/issues/21755 */display: inline-block !important;position: relative;}#sk-container-id-6 div.sk-text-repr-fallback {display: none;}</style><div id=\"sk-container-id-6\" class=\"sk-top-container\"><div class=\"sk-text-repr-fallback\"><pre>LinearRegression()</pre><b>In a Jupyter environment, please rerun this cell to show the HTML representation or trust the notebook. <br />On GitHub, the HTML representation is unable to render, please try loading this page with nbviewer.org.</b></div><div class=\"sk-container\" hidden><div class=\"sk-item\"><div class=\"sk-estimator sk-toggleable\"><input class=\"sk-toggleable__control sk-hidden--visually\" id=\"sk-estimator-id-6\" type=\"checkbox\" checked><label for=\"sk-estimator-id-6\" class=\"sk-toggleable__label sk-toggleable__label-arrow\">LinearRegression</label><div class=\"sk-toggleable__content\"><pre>LinearRegression()</pre></div></div></div></div></div>"
      ],
      "text/plain": [
       "LinearRegression()"
      ]
     },
     "execution_count": 175,
     "metadata": {},
     "output_type": "execute_result"
    }
   ],
   "source": [
    "regressor.fit(X_train,y_train)"
   ]
  },
  {
   "cell_type": "code",
   "execution_count": 176,
   "id": "99e90f41",
   "metadata": {},
   "outputs": [],
   "source": [
    "y_pred = regressor.predict(X_test)"
   ]
  },
  {
   "cell_type": "code",
   "execution_count": 177,
   "id": "d8ddedec",
   "metadata": {},
   "outputs": [
    {
     "name": "stdout",
     "output_type": "stream",
     "text": [
      "Intercept : 2.826892353899737\n",
      "Slope : 9.682078154455697\n"
     ]
    }
   ],
   "source": [
    "print(f\"Intercept : {regressor.intercept_[0]}\")\n",
    "print(f\"Slope : {regressor.coef_[0][0]}\")"
   ]
  },
  {
   "cell_type": "code",
   "execution_count": 178,
   "id": "acef2113",
   "metadata": {},
   "outputs": [
    {
     "name": "stdout",
     "output_type": "stream",
     "text": [
      "MAE: 3.9207511902099244 \n",
      "MSE: 18.943211722315272 \n",
      "RMSE: 4.352380006653288 \n",
      "R2 Score: 0.9678055545167994 \n"
     ]
    }
   ],
   "source": [
    "print(f'MAE: {mean_absolute_error(y_test,y_pred)} ')\n",
    "print(f'MSE: {mean_squared_error(y_test,y_pred)} ')\n",
    "print(f'RMSE: {np.sqrt(mean_squared_error(y_test,y_pred))} ')\n",
    "print(f'R2 Score: {r2_score(y_test,y_pred)} ')"
   ]
  },
  {
   "cell_type": "code",
   "execution_count": 179,
   "id": "77b3bc2b",
   "metadata": {},
   "outputs": [
    {
     "data": {
      "image/png": "[encoded data removed]",
      "text/plain": [
       "<Figure size 640x480 with 1 Axes>"
      ]
     },
     "metadata": {},
     "output_type": "display_data"
    }
   ],
   "source": [
    "plt.scatter(X_test,y_test,color='gray',label='Actual data')\n",
    "plt.plot(X_test,y_pred,color='red',label='Predicted data')\n",
    "plt.xlabel('X_test')\n",
    "plt.ylabel('y_pred and y_test')\n",
    "plt.legend()\n",
    "plt.show()"
   ]
  },
  {
   "cell_type": "markdown",
   "id": "cde0a6ab",
   "metadata": {},
   "source": [
    "### analyze:\n",
    "#### Matching points and lines:\n",
    "\n",
    "The closer the gray dots are to the red line, the more accurate the predictions.\n",
    "In this graph, the gray points appear to be relatively close to the red line, especially on the right side of the graph.\n",
    "This shows that the linear model used to predict students' grades has performed well.\n",
    "\n",
    "#### Scattering of points:\n",
    "\n",
    "If the gray points are uniformly scattered around the red line, it means that the model predicts uniformly.\n",
    "If the points in some areas have more distance than the line, it shows that the model is less accurate in those specific areas.\n",
    "#### Conclusion:\n",
    "In general, this graph shows that the model for predicting students' grades performs well, and the predicted grades (red line) are in good agreement with the actual grades (gray points)."
   ]
  },
  {
   "cell_type": "code",
   "execution_count": 180,
   "id": "d55080b0",
   "metadata": {},
   "outputs": [
    {
     "data": {
      "image/png": "[encoded data removed]",
      "text/plain": [
       "<Figure size 640x480 with 1 Axes>"
      ]
     },
     "metadata": {},
     "output_type": "display_data"
    }
   ],
   "source": [
    "plt.scatter(X_test,y_test,color='gray',label='Actual data')\n",
    "plt.scatter(X_test,y_pred,color='red',label='Predicted data')\n",
    "plt.xlabel('X_test')\n",
    "plt.ylabel('y_pred and y_test')\n",
    "plt.legend()\n",
    "plt.grid()\n",
    "plt.show()"
   ]
  },
  {
   "cell_type": "markdown",
   "id": "b978378d",
   "metadata": {},
   "source": [
    "### analyze:\n",
    "#### Matching Points:\n",
    "\n",
    "The closer the gray and red dots are to each other, the more accurate the predictions.\n",
    "In this graph, the red points seem to be close to the gray points in many cases, especially on the right side of the graph. This shows that the prediction model performs well.\n",
    "However, on the left side of the graph, there is a significant difference between the gray and red points, indicating more error in the predictions in that range.\n",
    "\n",
    "#### Scattering of points:\n",
    "\n",
    "In areas where the red and gray points overlap, the model has an accurate prediction.\n",
    "In the areas where the red and gray points are far apart, the prediction model has a weaker performance.\n",
    "\n",
    "#### Conclusion:\n",
    "\n",
    "In general, this graph shows that the model for predicting students' grades performs well and in many cases the predicted grades (red points) are in good agreement with the actual grades (gray points).\n",
    "However, in some areas there is a difference between the actual and predicted scores, which indicates that the model needs to be improved or more data is needed to train the model."
   ]
  },
  {
   "cell_type": "code",
   "execution_count": 94,
   "id": "39bad7af",
   "metadata": {},
   "outputs": [
    {
     "data": {
      "image/png": "[encoded data removed]",
      "text/plain": [
       "<Figure size 640x480 with 1 Axes>"
      ]
     },
     "metadata": {},
     "output_type": "display_data"
    }
   ],
   "source": [
    "plt.scatter(y_test, y_pred, color='gray')\n",
    "plt.xlabel('y_test')\n",
    "plt.ylabel('y_pred')\n",
    "\n",
    "plt.annotate(f'''\n",
    "                   (y_test : {float(y_test.max()):.2f}, \n",
    "                   y_pred : {float(y_pred.max()):.2f})''', \n",
    "             (y_test[0], y_pred[0]), \n",
    "             textcoords=\"offset points\", \n",
    "             xytext=(-60,-8), \n",
    "             ha='center',\n",
    "             fontsize=8,\n",
    "             color='red')\n",
    "\n",
    "\n",
    "plt.annotate(f'''  \n",
    "                   (y_test : {float(y_test.min()):.2f}, \n",
    "                   y_pred : {float(y_pred.min()):.2f})''',\n",
    "             (y_test[2], y_pred[2]),\n",
    "             textcoords=\"offset points\", \n",
    "             xytext=(5,8), \n",
    "             ha='center',\n",
    "             fontsize=8,\n",
    "             color='blue')\n",
    "\n",
    "plt.show()"
   ]
  },
  {
   "cell_type": "markdown",
   "id": "8e055a2f",
   "metadata": {},
   "source": [
    "### Interpretation of the chart:\n",
    "#### Gray points:\n",
    "\n",
    "These points represent the values ​​of y_test and y_pred for each student.\n",
    "The horizontal axis (x) represents the students' actual scores (y_test).\n",
    "The vertical axis (y) represents the predicted scores (y_pred).\n",
    "\n",
    "#### Value tags:\n",
    "\n",
    "In this chart, the actual and predicted scores are included for two detailed information points.\n",
    "\n",
    "Bottom left point:\n",
    "Actual score: 21.00\n",
    "Predicted score: 27.03\n",
    "Top right point:\n",
    "Actual score: 81.00\n",
    "Predicted score: 83.19\n",
    "\n",
    "### analyze:\n",
    "The proximity of the points to the line y=x:\n",
    "\n",
    "Whatever points to the hypothetical line y=x are closer, the prediction model performs better.\n",
    "If a point exactly on the line y=x, it means that the predicted score is exactly equal to the actual score.\n",
    "In this diagram, the points are relative to the line y=x are close, especially in the high score range (point with actual score of 81 and predicted score of 83.19).\n",
    "Scattering of points:\n",
    "\n",
    "At the bottom left of the graph, a point (actual score 21, predicted score 27.03) significantly deviates from the line.\n",
    "\n",
    "y=x away. This shows that in this particular case, the prediction model was less accurate.\n",
    "However, in the range of higher scores, the predictions are closer to the actual scores.\n",
    "\n",
    "#### Conclusion:\n",
    "Overall, this graph shows that the prediction model performs well, especially in the higher score range.\n",
    "In the range of lower scores, the prediction model may need to be improved to achieve more accurate predictions."
   ]
  },
  {
   "cell_type": "code",
   "execution_count": 99,
   "id": "5f7755e7",
   "metadata": {},
   "outputs": [],
   "source": [
    "compare = pd.DataFrame({'Actual':y_test.flatten(),'Predicted':y_pred.flatten()})"
   ]
  },
  {
   "cell_type": "code",
   "execution_count": 100,
   "id": "cd9d83b1",
   "metadata": {},
   "outputs": [
    {
     "data": {
      "text/html": [
       "<div>\n",
       "<style scoped>\n",
       "    .dataframe tbody tr th:only-of-type {\n",
       "        vertical-align: middle;\n",
       "    }\n",
       "\n",
       "    .dataframe tbody tr th {\n",
       "        vertical-align: top;\n",
       "    }\n",
       "\n",
       "    .dataframe thead th {\n",
       "        text-align: right;\n",
       "    }\n",
       "</style>\n",
       "<table border=\"1\" class=\"dataframe\">\n",
       "  <thead>\n",
       "    <tr style=\"text-align: right;\">\n",
       "      <th></th>\n",
       "      <th>Actual</th>\n",
       "      <th>Predicted</th>\n",
       "    </tr>\n",
       "  </thead>\n",
       "  <tbody>\n",
       "    <tr>\n",
       "      <th>0</th>\n",
       "      <td>81</td>\n",
       "      <td>83.188141</td>\n",
       "    </tr>\n",
       "    <tr>\n",
       "      <th>1</th>\n",
       "      <td>30</td>\n",
       "      <td>27.032088</td>\n",
       "    </tr>\n",
       "    <tr>\n",
       "      <th>2</th>\n",
       "      <td>21</td>\n",
       "      <td>27.032088</td>\n",
       "    </tr>\n",
       "    <tr>\n",
       "      <th>3</th>\n",
       "      <td>76</td>\n",
       "      <td>69.633232</td>\n",
       "    </tr>\n",
       "    <tr>\n",
       "      <th>4</th>\n",
       "      <td>62</td>\n",
       "      <td>59.951153</td>\n",
       "    </tr>\n",
       "  </tbody>\n",
       "</table>\n",
       "</div>"
      ],
      "text/plain": [
       "   Actual  Predicted\n",
       "0      81  83.188141\n",
       "1      30  27.032088\n",
       "2      21  27.032088\n",
       "3      76  69.633232\n",
       "4      62  59.951153"
      ]
     },
     "execution_count": 100,
     "metadata": {},
     "output_type": "execute_result"
    }
   ],
   "source": [
    "compare"
   ]
  },
  {
   "cell_type": "code",
   "execution_count": 181,
   "id": "3f5b3bf4",
   "metadata": {},
   "outputs": [
    {
     "data": {
      "image/png": "[encoded data removed]",
      "text/plain": [
       "<Figure size 640x480 with 1 Axes>"
      ]
     },
     "metadata": {},
     "output_type": "display_data"
    }
   ],
   "source": [
    "plt.scatter(X_train,y_train,color='gray',label='Actual data')\n",
    "plt.scatter(X_test,y_pred,color='red',label='Predicted data')\n",
    "plt.plot(X_test,y_pred,color='green')\n",
    "plt.xlabel('Hours')\n",
    "plt.ylabel('Scores')\n",
    "plt.grid()\n",
    "plt.legend()\n",
    "plt.show()"
   ]
  },
  {
   "cell_type": "markdown",
   "id": "285a3dca",
   "metadata": {},
   "source": [
    "#### Conclusion:\n",
    "This model is in one line and it seems to be a good model"
   ]
  },
  {
   "cell_type": "code",
   "execution_count": 182,
   "id": "8a6eac93",
   "metadata": {},
   "outputs": [],
   "source": [
    "df2=pd.DataFrame({'Hours':[3.5,5,12],'Scores':[5,6,7]})"
   ]
  },
  {
   "cell_type": "code",
   "execution_count": 183,
   "id": "a0f9b280",
   "metadata": {},
   "outputs": [],
   "source": [
    "X_train=df['Hours'].values.reshape(-1,1)\n",
    "y_train=df['Scores'].values.reshape(-1,1)\n",
    "X_test=df2['Hours'].values.reshape(-1,1)"
   ]
  },
  {
   "cell_type": "code",
   "execution_count": 186,
   "id": "e461696d",
   "metadata": {},
   "outputs": [],
   "source": [
    "y_pred2=regressor.predict(X_test)"
   ]
  },
  {
   "cell_type": "code",
   "execution_count": 187,
   "id": "8311bf4a",
   "metadata": {},
   "outputs": [],
   "source": [
    "y_pred_test = np.clip(y_pred2, 0, 100)"
   ]
  },
  {
   "cell_type": "code",
   "execution_count": 188,
   "id": "905cac5f",
   "metadata": {},
   "outputs": [],
   "source": [
    "df2['Scores']=list(y_pred_test.flatten().round(1))"
   ]
  },
  {
   "cell_type": "code",
   "execution_count": 189,
   "id": "28f3dc8e",
   "metadata": {},
   "outputs": [
    {
     "data": {
      "text/html": [
       "<div>\n",
       "<style scoped>\n",
       "    .dataframe tbody tr th:only-of-type {\n",
       "        vertical-align: middle;\n",
       "    }\n",
       "\n",
       "    .dataframe tbody tr th {\n",
       "        vertical-align: top;\n",
       "    }\n",
       "\n",
       "    .dataframe thead th {\n",
       "        text-align: right;\n",
       "    }\n",
       "</style>\n",
       "<table border=\"1\" class=\"dataframe\">\n",
       "  <thead>\n",
       "    <tr style=\"text-align: right;\">\n",
       "      <th></th>\n",
       "      <th>Hours</th>\n",
       "      <th>Scores</th>\n",
       "    </tr>\n",
       "  </thead>\n",
       "  <tbody>\n",
       "    <tr>\n",
       "      <th>0</th>\n",
       "      <td>3.5</td>\n",
       "      <td>36.7</td>\n",
       "    </tr>\n",
       "    <tr>\n",
       "      <th>1</th>\n",
       "      <td>5.0</td>\n",
       "      <td>51.4</td>\n",
       "    </tr>\n",
       "    <tr>\n",
       "      <th>2</th>\n",
       "      <td>12.0</td>\n",
       "      <td>100.0</td>\n",
       "    </tr>\n",
       "  </tbody>\n",
       "</table>\n",
       "</div>"
      ],
      "text/plain": [
       "   Hours  Scores\n",
       "0    3.5    36.7\n",
       "1    5.0    51.4\n",
       "2   12.0   100.0"
      ]
     },
     "execution_count": 189,
     "metadata": {},
     "output_type": "execute_result"
    }
   ],
   "source": [
    "df2"
   ]
  },
  {
   "cell_type": "code",
   "execution_count": 190,
   "id": "075d4010",
   "metadata": {},
   "outputs": [
    {
     "name": "stderr",
     "output_type": "stream",
     "text": [
      "C:\\Users\\peyman\\AppData\\Local\\Temp\\ipykernel_4232\\2057898889.py:1: FutureWarning: The frame.append method is deprecated and will be removed from pandas in a future version. Use pandas.concat instead.\n",
      "  df3 = df.append(df2)\n"
     ]
    }
   ],
   "source": [
    "df3 = df.append(df2)"
   ]
  },
  {
   "cell_type": "code",
   "execution_count": 191,
   "id": "9e4e058a",
   "metadata": {},
   "outputs": [
    {
     "data": {
      "text/html": [
       "<div>\n",
       "<style scoped>\n",
       "    .dataframe tbody tr th:only-of-type {\n",
       "        vertical-align: middle;\n",
       "    }\n",
       "\n",
       "    .dataframe tbody tr th {\n",
       "        vertical-align: top;\n",
       "    }\n",
       "\n",
       "    .dataframe thead th {\n",
       "        text-align: right;\n",
       "    }\n",
       "</style>\n",
       "<table border=\"1\" class=\"dataframe\">\n",
       "  <thead>\n",
       "    <tr style=\"text-align: right;\">\n",
       "      <th></th>\n",
       "      <th>Hours</th>\n",
       "      <th>Scores</th>\n",
       "    </tr>\n",
       "  </thead>\n",
       "  <tbody>\n",
       "    <tr>\n",
       "      <th>0</th>\n",
       "      <td>2.5</td>\n",
       "      <td>21.0</td>\n",
       "    </tr>\n",
       "    <tr>\n",
       "      <th>1</th>\n",
       "      <td>5.1</td>\n",
       "      <td>47.0</td>\n",
       "    </tr>\n",
       "    <tr>\n",
       "      <th>2</th>\n",
       "      <td>3.2</td>\n",
       "      <td>27.0</td>\n",
       "    </tr>\n",
       "    <tr>\n",
       "      <th>3</th>\n",
       "      <td>8.5</td>\n",
       "      <td>75.0</td>\n",
       "    </tr>\n",
       "    <tr>\n",
       "      <th>4</th>\n",
       "      <td>3.5</td>\n",
       "      <td>30.0</td>\n",
       "    </tr>\n",
       "    <tr>\n",
       "      <th>5</th>\n",
       "      <td>1.5</td>\n",
       "      <td>20.0</td>\n",
       "    </tr>\n",
       "    <tr>\n",
       "      <th>6</th>\n",
       "      <td>9.2</td>\n",
       "      <td>88.0</td>\n",
       "    </tr>\n",
       "    <tr>\n",
       "      <th>7</th>\n",
       "      <td>5.5</td>\n",
       "      <td>60.0</td>\n",
       "    </tr>\n",
       "    <tr>\n",
       "      <th>8</th>\n",
       "      <td>8.3</td>\n",
       "      <td>81.0</td>\n",
       "    </tr>\n",
       "    <tr>\n",
       "      <th>9</th>\n",
       "      <td>2.7</td>\n",
       "      <td>25.0</td>\n",
       "    </tr>\n",
       "    <tr>\n",
       "      <th>10</th>\n",
       "      <td>7.7</td>\n",
       "      <td>85.0</td>\n",
       "    </tr>\n",
       "    <tr>\n",
       "      <th>11</th>\n",
       "      <td>5.9</td>\n",
       "      <td>62.0</td>\n",
       "    </tr>\n",
       "    <tr>\n",
       "      <th>12</th>\n",
       "      <td>4.5</td>\n",
       "      <td>41.0</td>\n",
       "    </tr>\n",
       "    <tr>\n",
       "      <th>13</th>\n",
       "      <td>3.3</td>\n",
       "      <td>42.0</td>\n",
       "    </tr>\n",
       "    <tr>\n",
       "      <th>14</th>\n",
       "      <td>1.1</td>\n",
       "      <td>17.0</td>\n",
       "    </tr>\n",
       "    <tr>\n",
       "      <th>15</th>\n",
       "      <td>8.9</td>\n",
       "      <td>95.0</td>\n",
       "    </tr>\n",
       "    <tr>\n",
       "      <th>16</th>\n",
       "      <td>2.5</td>\n",
       "      <td>30.0</td>\n",
       "    </tr>\n",
       "    <tr>\n",
       "      <th>17</th>\n",
       "      <td>1.9</td>\n",
       "      <td>24.0</td>\n",
       "    </tr>\n",
       "    <tr>\n",
       "      <th>18</th>\n",
       "      <td>6.1</td>\n",
       "      <td>67.0</td>\n",
       "    </tr>\n",
       "    <tr>\n",
       "      <th>19</th>\n",
       "      <td>7.4</td>\n",
       "      <td>69.0</td>\n",
       "    </tr>\n",
       "    <tr>\n",
       "      <th>20</th>\n",
       "      <td>2.7</td>\n",
       "      <td>30.0</td>\n",
       "    </tr>\n",
       "    <tr>\n",
       "      <th>21</th>\n",
       "      <td>4.8</td>\n",
       "      <td>54.0</td>\n",
       "    </tr>\n",
       "    <tr>\n",
       "      <th>22</th>\n",
       "      <td>3.8</td>\n",
       "      <td>35.0</td>\n",
       "    </tr>\n",
       "    <tr>\n",
       "      <th>23</th>\n",
       "      <td>6.9</td>\n",
       "      <td>76.0</td>\n",
       "    </tr>\n",
       "    <tr>\n",
       "      <th>24</th>\n",
       "      <td>7.8</td>\n",
       "      <td>86.0</td>\n",
       "    </tr>\n",
       "    <tr>\n",
       "      <th>0</th>\n",
       "      <td>3.5</td>\n",
       "      <td>36.7</td>\n",
       "    </tr>\n",
       "    <tr>\n",
       "      <th>1</th>\n",
       "      <td>5.0</td>\n",
       "      <td>51.4</td>\n",
       "    </tr>\n",
       "    <tr>\n",
       "      <th>2</th>\n",
       "      <td>12.0</td>\n",
       "      <td>100.0</td>\n",
       "    </tr>\n",
       "  </tbody>\n",
       "</table>\n",
       "</div>"
      ],
      "text/plain": [
       "    Hours  Scores\n",
       "0     2.5    21.0\n",
       "1     5.1    47.0\n",
       "2     3.2    27.0\n",
       "3     8.5    75.0\n",
       "4     3.5    30.0\n",
       "5     1.5    20.0\n",
       "6     9.2    88.0\n",
       "7     5.5    60.0\n",
       "8     8.3    81.0\n",
       "9     2.7    25.0\n",
       "10    7.7    85.0\n",
       "11    5.9    62.0\n",
       "12    4.5    41.0\n",
       "13    3.3    42.0\n",
       "14    1.1    17.0\n",
       "15    8.9    95.0\n",
       "16    2.5    30.0\n",
       "17    1.9    24.0\n",
       "18    6.1    67.0\n",
       "19    7.4    69.0\n",
       "20    2.7    30.0\n",
       "21    4.8    54.0\n",
       "22    3.8    35.0\n",
       "23    6.9    76.0\n",
       "24    7.8    86.0\n",
       "0     3.5    36.7\n",
       "1     5.0    51.4\n",
       "2    12.0   100.0"
      ]
     },
     "execution_count": 191,
     "metadata": {},
     "output_type": "execute_result"
    }
   ],
   "source": [
    "df3"
   ]
  },
  {
   "cell_type": "code",
   "execution_count": 192,
   "id": "2334a2e3",
   "metadata": {},
   "outputs": [],
   "source": [
    "df3.index = range(0,len(df3))"
   ]
  },
  {
   "cell_type": "code",
   "execution_count": 193,
   "id": "49d9b2b0",
   "metadata": {},
   "outputs": [
    {
     "data": {
      "text/html": [
       "<div>\n",
       "<style scoped>\n",
       "    .dataframe tbody tr th:only-of-type {\n",
       "        vertical-align: middle;\n",
       "    }\n",
       "\n",
       "    .dataframe tbody tr th {\n",
       "        vertical-align: top;\n",
       "    }\n",
       "\n",
       "    .dataframe thead th {\n",
       "        text-align: right;\n",
       "    }\n",
       "</style>\n",
       "<table border=\"1\" class=\"dataframe\">\n",
       "  <thead>\n",
       "    <tr style=\"text-align: right;\">\n",
       "      <th></th>\n",
       "      <th>Hours</th>\n",
       "      <th>Scores</th>\n",
       "    </tr>\n",
       "  </thead>\n",
       "  <tbody>\n",
       "    <tr>\n",
       "      <th>0</th>\n",
       "      <td>2.5</td>\n",
       "      <td>21.0</td>\n",
       "    </tr>\n",
       "    <tr>\n",
       "      <th>1</th>\n",
       "      <td>5.1</td>\n",
       "      <td>47.0</td>\n",
       "    </tr>\n",
       "    <tr>\n",
       "      <th>2</th>\n",
       "      <td>3.2</td>\n",
       "      <td>27.0</td>\n",
       "    </tr>\n",
       "    <tr>\n",
       "      <th>3</th>\n",
       "      <td>8.5</td>\n",
       "      <td>75.0</td>\n",
       "    </tr>\n",
       "    <tr>\n",
       "      <th>4</th>\n",
       "      <td>3.5</td>\n",
       "      <td>30.0</td>\n",
       "    </tr>\n",
       "    <tr>\n",
       "      <th>5</th>\n",
       "      <td>1.5</td>\n",
       "      <td>20.0</td>\n",
       "    </tr>\n",
       "    <tr>\n",
       "      <th>6</th>\n",
       "      <td>9.2</td>\n",
       "      <td>88.0</td>\n",
       "    </tr>\n",
       "    <tr>\n",
       "      <th>7</th>\n",
       "      <td>5.5</td>\n",
       "      <td>60.0</td>\n",
       "    </tr>\n",
       "    <tr>\n",
       "      <th>8</th>\n",
       "      <td>8.3</td>\n",
       "      <td>81.0</td>\n",
       "    </tr>\n",
       "    <tr>\n",
       "      <th>9</th>\n",
       "      <td>2.7</td>\n",
       "      <td>25.0</td>\n",
       "    </tr>\n",
       "    <tr>\n",
       "      <th>10</th>\n",
       "      <td>7.7</td>\n",
       "      <td>85.0</td>\n",
       "    </tr>\n",
       "    <tr>\n",
       "      <th>11</th>\n",
       "      <td>5.9</td>\n",
       "      <td>62.0</td>\n",
       "    </tr>\n",
       "    <tr>\n",
       "      <th>12</th>\n",
       "      <td>4.5</td>\n",
       "      <td>41.0</td>\n",
       "    </tr>\n",
       "    <tr>\n",
       "      <th>13</th>\n",
       "      <td>3.3</td>\n",
       "      <td>42.0</td>\n",
       "    </tr>\n",
       "    <tr>\n",
       "      <th>14</th>\n",
       "      <td>1.1</td>\n",
       "      <td>17.0</td>\n",
       "    </tr>\n",
       "    <tr>\n",
       "      <th>15</th>\n",
       "      <td>8.9</td>\n",
       "      <td>95.0</td>\n",
       "    </tr>\n",
       "    <tr>\n",
       "      <th>16</th>\n",
       "      <td>2.5</td>\n",
       "      <td>30.0</td>\n",
       "    </tr>\n",
       "    <tr>\n",
       "      <th>17</th>\n",
       "      <td>1.9</td>\n",
       "      <td>24.0</td>\n",
       "    </tr>\n",
       "    <tr>\n",
       "      <th>18</th>\n",
       "      <td>6.1</td>\n",
       "      <td>67.0</td>\n",
       "    </tr>\n",
       "    <tr>\n",
       "      <th>19</th>\n",
       "      <td>7.4</td>\n",
       "      <td>69.0</td>\n",
       "    </tr>\n",
       "    <tr>\n",
       "      <th>20</th>\n",
       "      <td>2.7</td>\n",
       "      <td>30.0</td>\n",
       "    </tr>\n",
       "    <tr>\n",
       "      <th>21</th>\n",
       "      <td>4.8</td>\n",
       "      <td>54.0</td>\n",
       "    </tr>\n",
       "    <tr>\n",
       "      <th>22</th>\n",
       "      <td>3.8</td>\n",
       "      <td>35.0</td>\n",
       "    </tr>\n",
       "    <tr>\n",
       "      <th>23</th>\n",
       "      <td>6.9</td>\n",
       "      <td>76.0</td>\n",
       "    </tr>\n",
       "    <tr>\n",
       "      <th>24</th>\n",
       "      <td>7.8</td>\n",
       "      <td>86.0</td>\n",
       "    </tr>\n",
       "    <tr>\n",
       "      <th>25</th>\n",
       "      <td>3.5</td>\n",
       "      <td>36.7</td>\n",
       "    </tr>\n",
       "    <tr>\n",
       "      <th>26</th>\n",
       "      <td>5.0</td>\n",
       "      <td>51.4</td>\n",
       "    </tr>\n",
       "    <tr>\n",
       "      <th>27</th>\n",
       "      <td>12.0</td>\n",
       "      <td>100.0</td>\n",
       "    </tr>\n",
       "  </tbody>\n",
       "</table>\n",
       "</div>"
      ],
      "text/plain": [
       "    Hours  Scores\n",
       "0     2.5    21.0\n",
       "1     5.1    47.0\n",
       "2     3.2    27.0\n",
       "3     8.5    75.0\n",
       "4     3.5    30.0\n",
       "5     1.5    20.0\n",
       "6     9.2    88.0\n",
       "7     5.5    60.0\n",
       "8     8.3    81.0\n",
       "9     2.7    25.0\n",
       "10    7.7    85.0\n",
       "11    5.9    62.0\n",
       "12    4.5    41.0\n",
       "13    3.3    42.0\n",
       "14    1.1    17.0\n",
       "15    8.9    95.0\n",
       "16    2.5    30.0\n",
       "17    1.9    24.0\n",
       "18    6.1    67.0\n",
       "19    7.4    69.0\n",
       "20    2.7    30.0\n",
       "21    4.8    54.0\n",
       "22    3.8    35.0\n",
       "23    6.9    76.0\n",
       "24    7.8    86.0\n",
       "25    3.5    36.7\n",
       "26    5.0    51.4\n",
       "27   12.0   100.0"
      ]
     },
     "execution_count": 193,
     "metadata": {},
     "output_type": "execute_result"
    }
   ],
   "source": [
    "df3"
   ]
  },
  {
   "cell_type": "code",
   "execution_count": 195,
   "id": "7fb6d564",
   "metadata": {},
   "outputs": [
    {
     "data": {
      "image/png": "[encoded data removed]",
      "text/plain": [
       "<Figure size 640x480 with 1 Axes>"
      ]
     },
     "metadata": {},
     "output_type": "display_data"
    }
   ],
   "source": [
    "plt.scatter(X_train,y_train,color='gray',label='Actual data')\n",
    "plt.scatter(X_test,y_pred_test ,color='red',label='Predicted data')\n",
    "plt.plot(X_test,y_pred_test ,color='green',label='Predicted data')\n",
    "plt.xlabel('Hours')\n",
    "plt.ylabel('Scores')\n",
    "plt.grid()\n",
    "plt.legend()\n",
    "plt.show()"
   ]
  },
  {
   "cell_type": "markdown",
   "id": "dde3e0c3",
   "metadata": {},
   "source": [
    "### Analysis of the linear graph of the prediction of students' grades\n",
    "\n",
    "The presented line graph shows the relationship between the students' actual and predicted scores. The horizontal axis (X) is assigned to the number of study hours and the vertical axis (Y) is assigned to the grade. There are two distinct lines in this graph:\n",
    "\n",
    "Blue line: shows the actual grades of the students.\n",
    "Green line: shows the scores predicted by the model.\n",
    "\n",
    "#### Key considerations\n",
    "\n",
    "Correlation: There appears to be a strong correlation between actual and predicted scores. Both lines move in the same direction and are close to each other in most places.\n",
    "Accuracy: The predictive model is able to accurately estimate students' grades in a wide range of study hours.\n",
    "Deviation: In some places, slight deviation is observed between actual and predicted scores. This indicates that the predictive model is not completely perfect and may have errors in estimating the scores of some students.\n",
    "\n",
    "#### Conclusion\n",
    "\n",
    "The presented line graph shows that the predictive model is able to accurately estimate students' grades based on the number of hours they study. However, this model is not completely perfect and may have errors in estimating the grades of some students.\n",
    "\n",
    "#### Additional tips\n",
    "\n",
    "This predictive model can be used to identify students who are at risk of academic failure.\n",
    "This model can be used to personalize educational programs and provide additional support to students who need it.\n",
    "\n",
    "#### Limitations\n",
    "\n",
    "The accuracy of the predictive model depends on the quality of its training data.\n",
    "This model may not be accurate enough for students who use different study methods or are trained in different learning \n",
    "\n",
    "environments.\n",
    "\n",
    "#### Offers\n",
    "\n",
    "To improve the accuracy of the model, more and more diverse training data can be used.\n",
    "The model can be improved to consider other factors such as educational background, economic and social status and psychological factors of students."
   ]
  },
  {
   "cell_type": "code",
   "execution_count": 162,
   "id": "6010e2c8",
   "metadata": {},
   "outputs": [
    {
     "data": {
      "image/png": "[encoded data removed]",
      "text/plain": [
       "<Figure size 1200x500 with 2 Axes>"
      ]
     },
     "metadata": {},
     "output_type": "display_data"
    }
   ],
   "source": [
    "fig, axes = plt.subplots(nrows=1, ncols=2, figsize=(12, 5))\n",
    "\n",
    "\n",
    "axes[0].hist(df['Scores'])\n",
    "axes[0].set_xlabel('Score')\n",
    "axes[0].set_ylabel('Frequency')\n",
    "axes[0].set_title('Actual data')\n",
    "\n",
    "\n",
    "axes[1].hist(df3['Scores'])\n",
    "axes[1].set_xlabel('Score')\n",
    "axes[1].set_ylabel('Frequency')\n",
    "axes[1].set_title('Predicted data')\n",
    "\n",
    "plt.tight_layout()\n",
    "plt.show()"
   ]
  },
  {
   "cell_type": "markdown",
   "id": "ec1d0dea",
   "metadata": {},
   "source": [
    "### Analysis of the distribution chart of students' grades\n",
    "\n",
    "The presented graph shows the distribution of students' grades in a particular dataset. The horizontal axis (X) is assigned to the grade and the vertical axis (Y) is assigned to the number of students with that grade.\n",
    "\n",
    "#### Key considerations\n",
    "\n",
    "Distribution: The distribution of scores is almost normal. This means that most of the scores are around the average (the peak point of the curve) and a few scores are at the end of the spectrum (low density areas of the curve).\n",
    "Average: The average score is around 70.\n",
    "Standard deviation: The standard deviation of scores is around 10. This indicates that the scores are somewhat scattered around the mean.\n",
    "High score: The highest score in this dataset is 100.\n",
    "Low score: The lowest score in this dataset is 20.\n",
    "\n",
    "#### Conclusion\n",
    "\n",
    "The graph of the distribution of scores shows that most of the students in this dataset have obtained average scores. Few students scored very high or very low.\n",
    "\n",
    "#### Additional tips\n",
    "\n",
    "This graph can be used to compare the performance of students in a particular class or school with the scores of students in other classes or schools.\n",
    "This chart can be used to identify students who have difficulty understanding course material or need extra help.\n",
    "\n",
    "#### Limitations\n",
    "\n",
    "This graph only shows the distribution of scores in a particular dataset.\n",
    "This chart does not provide information about factors influencing student performance, such as academic effort, ability, and socioeconomic status.\n",
    "\n",
    "#### Offers\n",
    "\n",
    "Other statistical analyzes such as hypothesis tests can be used to investigate significant differences in student performance in different groups.\n",
    "Machine learning methods can be used to predict student performance based on various factors, such as previous grades, class attendance, and participation in educational activities.\n",
    "\n",
    "#### Attention\n",
    "\n",
    "The diagram presented in the image you sent is different from the diagrams I have presented in previous answers. The graph provided in your image shows the distribution of scores, while the graphs I provided in previous answers showed the relationship between students' actual and predicted scores."
   ]
  }
 ],
 "metadata": {
  "kernelspec": {
   "display_name": "Python 3 (ipykernel)",
   "language": "python",
   "name": "python3"
  },
  "language_info": {
   "codemirror_mode": {
    "name": "ipython",
    "version": 3
   },
   "file_extension": ".py",
   "mimetype": "text/x-python",
   "name": "python",
   "nbconvert_exporter": "python",
   "pygments_lexer": "ipython3",
   "version": "3.10.9"
  }
 },
 "nbformat": 4,
 "nbformat_minor": 5
}
